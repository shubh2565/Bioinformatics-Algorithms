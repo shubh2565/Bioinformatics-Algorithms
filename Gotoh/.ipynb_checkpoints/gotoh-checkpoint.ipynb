{
 "cells": [
  {
   "cell_type": "markdown",
   "metadata": {},
   "source": [
    "# Gotoh implementation\n",
    "\n",
    "\n",
    "### The inputs are:\n",
    "An input DNA or protein sequence1.\n",
    "\n",
    "An input DNA or protein sequence2.\n",
    "\n",
    "Affine gap open cost as an integer.\n",
    "\n",
    "Affine gap extension score as an integer\n",
    "\n",
    "Substitution matrix in a text file (This time it is an optional argument).\n",
    "\n",
    "\n",
    "### The Outputs are:\n",
    "Alingment score.\n",
    "All optimal alingment representations of sequence1 and sequence2.\n",
    "Each of the optimal alingments has to be represented by a tuple of strings corresponding to sequence1 and sequnce2 with the correct insertions and deletions. \n",
    "\n",
    "## Implementation\n",
    "\n",
    "First you need to implement your algorithm and test your implementation.\n",
    "Note that now your algorithm has to handle DNA sequences as well as the protein sequences.\n",
    "\n",
    "Test your code using http://rna.informatik.uni-freiburg.de/Teaching/index.jsp?toolName=Gotoh\n",
    "\n",
    "\n",
    "Make sure that you get identical results for all the matrices as well as all the alingments.\n",
    "\n",
    "\n",
    "### Parameters\n",
    "\n",
    "1. Maximization in D, P and Q matrixes\n",
    "\n",
    "2. Scores for DNA: match=1, mismatch=-1, gap_opening(alpha) = -3, gap_extension(beta) = -1\n",
    "\n",
    "3. Scores for proteins substitution = value from the matrix, gap_opening(alpha) = -11, gap_extension(beta) = -1"
   ]
  },
  {
   "cell_type": "markdown",
   "metadata": {},
   "source": [
    "### Potenital Pitfalls\n",
    "1. Maximisation vs Minimization in the matrices\n",
    "2. Dimentions of D, P, Q matrices\n",
    "3. Confusion between P and Q matrices\n",
    "4. Correct cost of g(1) in recursion. Note that it is alpha + beta, not just alpha\n",
    "4. Confusion between row and column indexes\n",
    "5. Missing potential traceback paths\n"
   ]
  },
  {
   "cell_type": "code",
   "execution_count": 1,
   "metadata": {},
   "outputs": [],
   "source": [
    "def gotoh(fasta_file_1, fasta_file_2, cost_gap_open, file_substitution_matrix=None):\n",
    "    alignments = []\n",
    "    \n",
    "    seq1 = read_fasta_file(fasta_file_1)\n",
    "    seq2 = read_fasta_file(fasta_file_2)\n",
    "    gap_extension = -1\n",
    "    if file_substitution_matrix != None:\n",
    "        score = read_substitution_matrix(file_substitution_matrix)\n",
    "        d_matrix, p_matrix, q_matrix = complete_d_p_q_computation(seq1, seq2, cost_gap_open, gap_extension, score)\n",
    "        tracebacks = compute_all_tracebacks(seq1, seq2, d_matrix, p_matrix, q_matrix, cost_gap_open, gap_extension, score)\n",
    "        for traceback_path in tracebacks:\n",
    "            alignment_seq1, alignment_seq2 = alignment(traceback_path, seq1, seq2)\n",
    "            alignments.append((alignment_seq1, alignment_seq2))\n",
    "        alignment_score = score_of_alignment(alignments[0][0], alignments[0][1], cost_gap_open, gap_extension, score)\n",
    "        \n",
    "    else:\n",
    "        d_matrix, p_matrix, q_matrix = complete_d_p_q_computation(seq1, seq2, cost_gap_open, gap_extension)\n",
    "        tracebacks = compute_all_tracebacks(seq1, seq2, d_matrix, p_matrix, q_matrix, cost_gap_open, gap_extension)\n",
    "        for traceback_path in tracebacks:\n",
    "            alignment_seq1, alignment_seq2 = alignment(traceback_path, seq1, seq2)\n",
    "            alignments.append((alignment_seq1, alignment_seq2))\n",
    "        alignment_score = score_of_alignment(alignments[0][0], alignments[0][1], cost_gap_open, gap_extension)\n",
    "    \n",
    "    return alignment_score, alignments"
   ]
  },
  {
   "cell_type": "code",
   "execution_count": 2,
   "metadata": {},
   "outputs": [],
   "source": [
    "def score_of_alignment(align_seq1, align_seq2, cost_gap_open, \n",
    "                       cost_gap_extension, substitutions=None):\n",
    "    \"\"\"\n",
    "    A nice helper function which computes the score of the given alignment.\n",
    "    This is only used for the self check.\n",
    "    Input example:\n",
    "    --CG\n",
    "    AACA\n",
    "    \"\"\"\n",
    "    score = 0\n",
    "    i = 0\n",
    "    \n",
    "    if substitutions == None:\n",
    "        while i < len(align_seq1):\n",
    "            if align_seq1[i] == align_seq2[i]:\n",
    "                score += 1\n",
    "                i += 1\n",
    "            elif align_seq1[i] == '-':\n",
    "                extension = 1\n",
    "                for j in range(i+1, len(align_seq1)):\n",
    "                    if align_seq1[j] == '-':\n",
    "                        extension += 1\n",
    "                        i += 1\n",
    "                    else:\n",
    "                        break\n",
    "                score += cost_gap_open + cost_gap_extension * extension\n",
    "                i += 1\n",
    "            elif align_seq2[i] == '-':\n",
    "                extension = 1\n",
    "                for j in range(i+1, len(align_seq2)):\n",
    "                    if align_seq2[j] == '-':\n",
    "                        extension += 1\n",
    "                        i += 1\n",
    "                    else:\n",
    "                        break\n",
    "                score += cost_gap_open + cost_gap_extension * extension\n",
    "                i += 1\n",
    "            else:\n",
    "                score = score - 1\n",
    "                i += 1\n",
    "                \n",
    "    else:\n",
    "        while i < len(align_seq1):\n",
    "            if align_seq1[i] == '-':\n",
    "                extension = 1\n",
    "                for j in range(i+1, len(align_seq1)):\n",
    "                    if align_seq1[j] == '-':\n",
    "                        extension += 1\n",
    "                        i += 1\n",
    "                    else:\n",
    "                        break\n",
    "                score += cost_gap_open + cost_gap_extension * extension\n",
    "                i += 1\n",
    "            elif align_seq2[i] == '-':\n",
    "                extension = 1\n",
    "                for j in range(i+1, len(align_seq2)):\n",
    "                    if align_seq2[j] == '-':\n",
    "                        extension += 1\n",
    "                        i += 1\n",
    "                    else:\n",
    "                        break\n",
    "                score += cost_gap_open + cost_gap_extension * extension\n",
    "                i += 1\n",
    "            else:\n",
    "                score += substitutions[(align_seq1[i], align_seq2[i])]\n",
    "                i += 1               \n",
    "    \n",
    "    return score"
   ]
  },
  {
   "cell_type": "code",
   "execution_count": 3,
   "metadata": {},
   "outputs": [],
   "source": [
    "def read_fasta_file(fasta_file):\n",
    "    \"Implement reading the fasta file\"\n",
    "    with open(fasta_file) as f:\n",
    "        lines = [line.rstrip() for line in f]\n",
    "        #remove the first line which is not part of the sequence\n",
    "        sequence = lines[1]\n",
    "    return sequence"
   ]
  },
  {
   "cell_type": "code",
   "execution_count": 4,
   "metadata": {},
   "outputs": [],
   "source": [
    "def read_substitution_matrix(file_substitution_matrix):\n",
    "    \"\"\"\n",
    "    Implement reading the scores file.\n",
    "    It can be stored as a dictionary of example:\n",
    "    scores[(\"A\", \"R\")] = -1\n",
    "    \"\"\"\n",
    "    scores = {}\n",
    "    with open(file_substitution_matrix) as f:\n",
    "        #to get only the lines belonging to scoring matrix\n",
    "        lines = [line.split() for line in f if not line.startswith('#') and not line.startswith('\\n')]\n",
    "    \n",
    "    #coverting list into a dictionary\n",
    "    for i in range(21):\n",
    "        for j in range(1, 22):\n",
    "            scores[(lines[j][0], lines[0][i])] = int(lines[j][i+1])\n",
    "    \n",
    "    return scores"
   ]
  },
  {
   "cell_type": "code",
   "execution_count": 5,
   "metadata": {},
   "outputs": [],
   "source": [
    "def init_matrix_d(seq_1, seq_2, cost_gap_open, cost_gap_extend):\n",
    "    \"\"\"\n",
    "    Implement initialization of the matrix D\n",
    "    \"\"\"\n",
    "    matrix_d = []\n",
    "    \n",
    "    while len(matrix_d) < len(seq_1)+1:\n",
    "        matrix_d.append([])\n",
    "        while len(matrix_d[-1]) < len(seq_2)+1:\n",
    "            matrix_d[-1].append(0)\n",
    "            \n",
    "    for i in range(1, len(matrix_d[0])):\n",
    "        matrix_d[0][i] = cost_gap_open + cost_gap_extend*(i)\n",
    "    for j in range(1, len(matrix_d)):\n",
    "        matrix_d[j][0] = cost_gap_open + cost_gap_extend*(j)\n",
    "        \n",
    "    return matrix_d"
   ]
  },
  {
   "cell_type": "code",
   "execution_count": 6,
   "metadata": {},
   "outputs": [],
   "source": [
    "def init_matrix_p(seq_1, seq_2):\n",
    "    \"\"\"\n",
    "    Implement initialization of the matrix P\n",
    "    \"\"\"\n",
    "    matrix_p = []\n",
    "    \n",
    "    while len(matrix_p) < len(seq_1)+1:\n",
    "        matrix_p.append([])\n",
    "        while len(matrix_p[-1]) < len(seq_2)+1:\n",
    "            matrix_p[-1].append(0)\n",
    "    \n",
    "    for i in range(1, len(matrix_p[0])):\n",
    "        matrix_p[0][i] = -float('Inf')\n",
    "    for j in range(1, len(matrix_p)):\n",
    "        matrix_p[j][0] = float('NaN')       \n",
    "    \n",
    "    return matrix_p"
   ]
  },
  {
   "cell_type": "code",
   "execution_count": 7,
   "metadata": {},
   "outputs": [],
   "source": [
    "def init_matrix_q(seq_1, seq_2):\n",
    "    \"\"\"\n",
    "    Implement initialization of the matrix Q\n",
    "    \"\"\"\n",
    "    matrix_q = []\n",
    "    \n",
    "    while len(matrix_q) < len(seq_1)+1:\n",
    "        matrix_q.append([])\n",
    "        while len(matrix_q[-1]) < len(seq_2)+1:\n",
    "            matrix_q[-1].append(0)\n",
    "    \n",
    "    for i in range(1, len(matrix_q[0])):\n",
    "        matrix_q[0][i] = float('NaN')\n",
    "    for j in range(1, len(matrix_q)):\n",
    "        matrix_q[j][0] = -float('Inf')\n",
    "        \n",
    "    return matrix_q"
   ]
  },
  {
   "cell_type": "code",
   "execution_count": 8,
   "metadata": {},
   "outputs": [],
   "source": [
    "def visualize_matrix(matrix):\n",
    "    \"\"\"\n",
    "    Implement the visualization of a matrix.\n",
    "    Can be used for self check\n",
    "    \"\"\"\n",
    "    for i in range(len(matrix)):\n",
    "        print(*matrix[i], sep='\\t')\n",
    "        "
   ]
  },
  {
   "cell_type": "code",
   "execution_count": 9,
   "metadata": {},
   "outputs": [],
   "source": [
    "def complete_d_p_q_computation(seq_1, seq_2, cost_gap_open, cost_gap_extend, substitutions=None):\n",
    "    \"\"\"\n",
    "    Implement the recursive computation of matrices D, P and Q\n",
    "    \"\"\"\n",
    "    matrix_d = init_matrix_d(seq_1, seq_2, cost_gap_open, cost_gap_extend)\n",
    "    matrix_p = init_matrix_p(seq_1, seq_2)\n",
    "    matrix_q = init_matrix_q(seq_1, seq_2)\n",
    "    \n",
    "    if substitutions == None:\n",
    "        for i in range(1,len(seq_1)+1):\n",
    "            for j in range(1,len(seq_2)+1):\n",
    "                matrix_p[i][j] = max(matrix_d[i-1][j] + cost_gap_open + cost_gap_extend,\n",
    "                                    matrix_p[i-1][j] + cost_gap_extend)\n",
    "                matrix_q[i][j] = max(matrix_d[i][j-1] + cost_gap_open + cost_gap_extend,\n",
    "                                    matrix_q[i][j-1] + cost_gap_extend)\n",
    "                if seq_1[i-1] == seq_2[j-1]:\n",
    "                    matrix_d[i][j] = max(matrix_d[i-1][j-1] + 1, matrix_p[i][j], matrix_q[i][j])\n",
    "                else:\n",
    "                    matrix_d[i][j] = max(matrix_d[i-1][j-1] - 1, matrix_p[i][j], matrix_q[i][j])\n",
    "                    \n",
    "    else:\n",
    "        for i in range(1,len(seq_1)+1):\n",
    "            for j in range(1,len(seq_2)+1):\n",
    "                matrix_p[i][j] = max(matrix_d[i-1][j] + cost_gap_open + cost_gap_extend,\n",
    "                                    matrix_p[i-1][j] + cost_gap_extend)\n",
    "                matrix_q[i][j] = max(matrix_d[i][j-1] + cost_gap_open + cost_gap_extend,\n",
    "                                    matrix_q[i][j-1] + cost_gap_extend)\n",
    "                matrix_d[i][j] = max(matrix_d[i-1][j-1] + substitutions[(seq_1[i-1], seq_2[j-1])],\n",
    "                                     matrix_p[i][j], matrix_q[i][j])\n",
    "                \n",
    "    return matrix_d, matrix_p, matrix_q\n",
    "               \n",
    "                    "
   ]
  },
  {
   "cell_type": "code",
   "execution_count": 10,
   "metadata": {},
   "outputs": [],
   "source": [
    "\"\"\"\n",
    "You are working with 3 matrices simultaneously.\n",
    "You can store your path as a list of cells.\n",
    "A cell can be a tuple: coordinates, matrix_name.\n",
    "And coordinates is a tuple of indexex i, j.\n",
    "\n",
    "Cell example: ((0, 2), \"d\")\n",
    "Path example: [((2, 4), 'd'), ((2, 4), 'q'), ((2, 3), 'q'), ((2, 2), 'd'), ((1, 1), 'd'), ((0, 0), 'd')]\n",
    "\n",
    "\"\"\"\n",
    "\n",
    "def compute_all_tracebacks(seq1, seq2, d_matrix, p_matrix, q_matrix,\n",
    "                           cost_gap_open, cost_gap_extend, substitution=None):\n",
    "    \"\"\"\n",
    "    Implement a search for all possible paths from the bottom right corner to the top left.\n",
    "    Implement 'find_all_previous' and check_complete first.\n",
    "   \n",
    "    \"\"\"\n",
    "    \n",
    "    all_paths = [[((len(seq1),len(seq2)), 'd')]]\n",
    "    check_path = False\n",
    "    i = 0\n",
    "    \n",
    "    while i < len(all_paths):\n",
    "        while(check_path ==  check_complete(all_paths[i])):\n",
    "            cells = find_all_previous(all_paths[i][-1], seq1, seq2, d_matrix, p_matrix, q_matrix,\n",
    "                                      cost_gap_open, cost_gap_extend, substitution)\n",
    "            \n",
    "            if len(cells) == 1:\n",
    "                all_paths[i].append(cells[0])\n",
    "            else:\n",
    "                for j in range(len(cells)-1):\n",
    "                    all_paths.append(all_paths[i][:])\n",
    "                    all_paths[-1].append(cells[j+1])\n",
    "                all_paths[i].append(cells[0])\n",
    "        \n",
    "        i += 1\n",
    "            \n",
    "    return all_paths\n",
    "    \n",
    "def find_all_previous(cell, seq1, seq2, d_matrix, p_matrix, q_matrix,\n",
    "                   cost_gap_open, cost_gap_extend, substitution=None):\n",
    "    parent_cells = []\n",
    "    \"\"\"\n",
    "    Implement a search for all possible previous cells.\n",
    "    \"\"\"\n",
    "    if cell[1] == 'p':\n",
    "        if p_matrix[cell[0][0]][cell[0][1]] == d_matrix[cell[0][0]-1][cell[0][1]] + cost_gap_open + cost_gap_extend:\n",
    "            parent_cells.append(((cell[0][0]-1, cell[0][1]), 'd'))\n",
    "        if p_matrix[cell[0][0]][cell[0][1]] == p_matrix[cell[0][0]-1][cell[0][1]] + cost_gap_extend:\n",
    "            parent_cells.append(((cell[0][0]-1, cell[0][1]), 'p'))\n",
    "    elif cell[1] == 'q':\n",
    "        if q_matrix[cell[0][0]][cell[0][1]] == d_matrix[cell[0][0]][cell[0][1]-1] + cost_gap_open + cost_gap_extend:\n",
    "            parent_cells.append(((cell[0][0], cell[0][1]-1), 'd'))\n",
    "        if q_matrix[cell[0][0]][cell[0][1]] == q_matrix[cell[0][0]][cell[0][1]-1] + cost_gap_extend:\n",
    "            parent_cells.append(((cell[0][0], cell[0][1]-1), 'q'))\n",
    "    else:\n",
    "        if d_matrix[cell[0][0]][cell[0][1]] == p_matrix[cell[0][0]][cell[0][1]]:\n",
    "            parent_cells.append(((cell[0][0], cell[0][1]), 'p'))\n",
    "        if d_matrix[cell[0][0]][cell[0][1]] == q_matrix[cell[0][0]][cell[0][1]]:\n",
    "            parent_cells.append(((cell[0][0], cell[0][1]), 'q'))\n",
    "        if substitution == None:\n",
    "            if seq1[cell[0][0]-1] == seq2[cell[0][1]-1]:\n",
    "                if d_matrix[cell[0][0]][cell[0][1]] == d_matrix[cell[0][0]-1][cell[0][1]-1] + 1:\n",
    "                    parent_cells.append(((cell[0][0]-1, cell[0][1]-1), 'd'))\n",
    "            else:\n",
    "                if d_matrix[cell[0][0]][cell[0][1]] == d_matrix[cell[0][0]-1][cell[0][1]-1] - 1:\n",
    "                    parent_cells.append(((cell[0][0]-1, cell[0][1]-1), 'd'))\n",
    "        else:\n",
    "            if d_matrix[cell[0][0]][cell[0][1]] == d_matrix[cell[0][0]-1][cell[0][1]-1] + substitution[(seq1[cell[0][0]-1], seq2[cell[0][1]-1])]:\n",
    "                parent_cells.append(((cell[0][0]-1, cell[0][1]-1), 'd'))\n",
    "            \n",
    "    return parent_cells\n",
    "\n",
    "def check_complete(path):\n",
    "    \"\"\"\n",
    "    Implement a function which checks if the traceback path is complete.\n",
    "    \"\"\"\n",
    "    if path[-1][0]== (0,0):\n",
    "        return True\n",
    "    else:\n",
    "        return False\n"
   ]
  },
  {
   "cell_type": "code",
   "execution_count": 11,
   "metadata": {},
   "outputs": [],
   "source": [
    "def alignment(traceback_path, seq1, seq2):\n",
    "    \"\"\"\n",
    "    Implement creation of the alignment with given traceback path and sequences1 and 2\n",
    "    \"\"\"\n",
    "    alignment_seq1 = ''\n",
    "    alignment_seq2 = ''\n",
    "    j = 0\n",
    "    k = 0\n",
    "    i = len(traceback_path)-2\n",
    "    \n",
    "    while i > -1:\n",
    "        if traceback_path[i][1] == 'd':\n",
    "            #print('d')\n",
    "            alignment_seq1 += seq1[j]\n",
    "            alignment_seq2 += seq2[k]\n",
    "            j += 1\n",
    "            k += 1\n",
    "            i -= 1\n",
    "        elif traceback_path[i][1] == 'p':\n",
    "            #print('p')\n",
    "            alignment_seq1 += seq1[j]\n",
    "            alignment_seq2 += '-'\n",
    "            j += 1\n",
    "            i -= 1\n",
    "            if traceback_path[i][1] == 'd':\n",
    "                i -= 1\n",
    "        else:\n",
    "            #print('q')\n",
    "            alignment_seq1 += '-'\n",
    "            alignment_seq2 += seq2[k]\n",
    "            k += 1\n",
    "            i -= 1\n",
    "            if traceback_path[i][1] == 'd':\n",
    "                i -= 1\n",
    "    \n",
    "    return alignment_seq1, alignment_seq2"
   ]
  },
  {
   "cell_type": "code",
   "execution_count": 12,
   "metadata": {},
   "outputs": [],
   "source": [
    "seq1 = 'CGAT'\n",
    "seq2 = 'CCGAAT'"
   ]
  },
  {
   "cell_type": "code",
   "execution_count": 13,
   "metadata": {},
   "outputs": [],
   "source": [
    "d, p, q = complete_d_p_q_computation(seq1, seq2, -3, -1, substitutions=None)"
   ]
  },
  {
   "cell_type": "code",
   "execution_count": 14,
   "metadata": {},
   "outputs": [
    {
     "data": {
      "text/plain": [
       "[[0, -4, -5, -6, -7, -8, -9],\n",
       " [-4, 1, -3, -4, -5, -6, -7],\n",
       " [-5, -3, 0, -2, -5, -6, -7],\n",
       " [-6, -4, -4, -1, -1, -4, -6],\n",
       " [-7, -5, -5, -5, -2, -2, -3]]"
      ]
     },
     "execution_count": 14,
     "metadata": {},
     "output_type": "execute_result"
    }
   ],
   "source": [
    "d"
   ]
  },
  {
   "cell_type": "code",
   "execution_count": 15,
   "metadata": {},
   "outputs": [
    {
     "name": "stdout",
     "output_type": "stream",
     "text": [
      "0\t-4\t-5\t-6\t-7\t-8\t-9\n",
      "-4\t1\t-3\t-4\t-5\t-6\t-7\n",
      "-5\t-3\t0\t-2\t-5\t-6\t-7\n",
      "-6\t-4\t-4\t-1\t-1\t-4\t-6\n",
      "-7\t-5\t-5\t-5\t-2\t-2\t-3\n"
     ]
    }
   ],
   "source": [
    "visualize_matrix(d)"
   ]
  },
  {
   "cell_type": "code",
   "execution_count": 16,
   "metadata": {},
   "outputs": [],
   "source": [
    "tracebacks = compute_all_tracebacks(seq1, seq2, d, p, q, -3, -1)"
   ]
  },
  {
   "cell_type": "code",
   "execution_count": 17,
   "metadata": {},
   "outputs": [
    {
     "data": {
      "text/plain": [
       "[[((4, 6), 'd'),\n",
       "  ((3, 5), 'd'),\n",
       "  ((2, 4), 'd'),\n",
       "  ((1, 3), 'd'),\n",
       "  ((1, 3), 'q'),\n",
       "  ((1, 2), 'q'),\n",
       "  ((1, 1), 'd'),\n",
       "  ((0, 0), 'd')],\n",
       " [((4, 6), 'd'),\n",
       "  ((3, 5), 'd'),\n",
       "  ((2, 4), 'd'),\n",
       "  ((2, 4), 'q'),\n",
       "  ((2, 3), 'q'),\n",
       "  ((2, 2), 'd'),\n",
       "  ((1, 1), 'd'),\n",
       "  ((0, 0), 'd')]]"
      ]
     },
     "execution_count": 17,
     "metadata": {},
     "output_type": "execute_result"
    }
   ],
   "source": [
    "tracebacks"
   ]
  },
  {
   "cell_type": "code",
   "execution_count": 18,
   "metadata": {},
   "outputs": [],
   "source": [
    "align_seq1, align_seq2 = alignment(tracebacks[0], seq1, seq2)"
   ]
  },
  {
   "cell_type": "code",
   "execution_count": 19,
   "metadata": {},
   "outputs": [
    {
     "data": {
      "text/plain": [
       "-3"
      ]
     },
     "execution_count": 19,
     "metadata": {},
     "output_type": "execute_result"
    }
   ],
   "source": [
    "score_of_alignment(align_seq1, align_seq2, -3, -1)"
   ]
  },
  {
   "cell_type": "code",
   "execution_count": 20,
   "metadata": {},
   "outputs": [
    {
     "data": {
      "text/plain": [
       "('C--GAT', 'CCGAAT')"
      ]
     },
     "execution_count": 20,
     "metadata": {},
     "output_type": "execute_result"
    }
   ],
   "source": [
    "alignment(tracebacks[0], seq1, seq2)"
   ]
  },
  {
   "cell_type": "code",
   "execution_count": 21,
   "metadata": {},
   "outputs": [
    {
     "data": {
      "text/plain": [
       "('CG--AT', 'CCGAAT')"
      ]
     },
     "execution_count": 21,
     "metadata": {},
     "output_type": "execute_result"
    }
   ],
   "source": [
    "alignment(tracebacks[1], seq1, seq2)"
   ]
  },
  {
   "cell_type": "code",
   "execution_count": 22,
   "metadata": {},
   "outputs": [
    {
     "data": {
      "text/plain": [
       "(0,\n",
       " [('ILDMDVVEGSAARFDCKVEG-YPDPEVMWFKDDNP---VKESRHFQIDYDEEGN',\n",
       "   'RDPVKTHEGWGVMLPCNPPAHYPGLSYRWLLNEFPNFIPTDGRHFV----SQTT')])"
      ]
     },
     "execution_count": 22,
     "metadata": {},
     "output_type": "execute_result"
    }
   ],
   "source": [
    "gotoh(\"data/s1.fasta\", \"data/s2.fasta\", -11, \"data/blosum62.txt\")"
   ]
  },
  {
   "cell_type": "code",
   "execution_count": 23,
   "metadata": {},
   "outputs": [
    {
     "data": {
      "text/plain": [
       "(33,\n",
       " [('ILDMDVVEGSAARFDCKVEG-YPDPEVMWFKDDNP---VKESRHFQIDYDEEGN',\n",
       "   'RDPVKTHEGWGVMLPCNPPAHYPGLSYRWLLNEFPNFIPTDGRHF----VSQTT'),\n",
       "  ('ILDMDVVEGSAARFDCKVEG-YPDPEVMWFKDDNP---VKESRHFQIDYDEEGN',\n",
       "   'RDPVKTHEGWGVMLPCNPPAHYPGLSYRWLLNEFPNFIPTDGRHFV----SQTT')])"
      ]
     },
     "execution_count": 23,
     "metadata": {},
     "output_type": "execute_result"
    }
   ],
   "source": [
    "gotoh(\"data/s1.fasta\", \"data/s2.fasta\", -11, \"data/pam250.txt\")"
   ]
  },
  {
   "cell_type": "code",
   "execution_count": 24,
   "metadata": {},
   "outputs": [
    {
     "data": {
      "text/plain": [
       "(41,\n",
       " [('ILDMDVVEGSAARFDCKVEGYPDPEVMWFKDDNPVKESRHFQIDYDEEGN',\n",
       "   'ISDTEADIGSNLRWGCAAAGKPRPMVRWLRNGEPLASQNRVEV-----LA'),\n",
       "  ('ILDMDVVEGSAARFDCKVEGYPDPEVMWFKDDNPVKESRHFQIDYDEEGN',\n",
       "   'ISDTEADIGSNLRWGCAAAGKPRPMVRWLRNGEPLASQNRVEVLA-----'),\n",
       "  ('ILDMDVVEGSAARFDCKVEGYPDPEVMWFKDDNPVKESRHFQIDYDEEGN',\n",
       "   'ISDTEADIGSNLRWGCAAAGKPRPMVRWLRNGEPLASQNRVEVL-----A')])"
      ]
     },
     "execution_count": 24,
     "metadata": {},
     "output_type": "execute_result"
    }
   ],
   "source": [
    "gotoh(\"data/s1.fasta\", \"data/s3.fasta\", -11, \"data/blosum62.txt\")"
   ]
  },
  {
   "cell_type": "code",
   "execution_count": 25,
   "metadata": {},
   "outputs": [
    {
     "data": {
      "text/plain": [
       "(60,\n",
       " [('ILDMDVVEGSAARFDCKVEGYPDPEVMWFKDDNPVKESRHFQIDYDEEGN',\n",
       "   'ISDTEADIGSNLRWGCAAAGKPRPMVRWLRNGEPLASQNRVEV-----LA'),\n",
       "  ('ILDMDVVEGSAARFDCKVEGYPDPEVMWFKDDNPVKESRHFQIDYDEEGN',\n",
       "   'ISDTEADIGSNLRWGCAAAGKPRPMVRWLRNGEPLASQNRVEVL-----A')])"
      ]
     },
     "execution_count": 25,
     "metadata": {},
     "output_type": "execute_result"
    }
   ],
   "source": [
    "gotoh(\"data/s1.fasta\", \"data/s3.fasta\", -11, \"data/pam250.txt\")"
   ]
  },
  {
   "cell_type": "code",
   "execution_count": 26,
   "metadata": {},
   "outputs": [
    {
     "data": {
      "text/plain": [
       "(5,\n",
       " [('ILDMDVVEGSAARFDCKVEGYPDPEVMWFKDDNPVKESRHFQIDYDEEGN',\n",
       "   'RRLIPAARGGEISILCQPRAAPKATILWSKGTEILGNSTRVTVTSD----')])"
      ]
     },
     "execution_count": 26,
     "metadata": {},
     "output_type": "execute_result"
    }
   ],
   "source": [
    "gotoh(\"data/s1.fasta\", \"data/s4.fasta\", -11, \"data/blosum62.txt\")"
   ]
  },
  {
   "cell_type": "code",
   "execution_count": 27,
   "metadata": {},
   "outputs": [
    {
     "data": {
      "text/plain": [
       "(30,\n",
       " [('ILDMDVVEGSAARFDCKVEGYPDPEVMWFKDDNPVKESRHFQIDYDEEGN',\n",
       "   'RRLIPAARGGEISILCQPRAAPKATILWSKGTEILGNSTRVTV----TSD'),\n",
       "  ('ILDMDVVEGSAARFDCKVEGYPDPEVMWFKDDNPVKESRHFQIDYDEEGN',\n",
       "   'RRLIPAARGGEISILCQPRAAPKATILWSKGTEILGNSTRVTVT----SD')])"
      ]
     },
     "execution_count": 27,
     "metadata": {},
     "output_type": "execute_result"
    }
   ],
   "source": [
    "gotoh(\"data/s1.fasta\", \"data/s4.fasta\", -11, \"data/pam250.txt\")"
   ]
  },
  {
   "cell_type": "code",
   "execution_count": 28,
   "metadata": {},
   "outputs": [
    {
     "data": {
      "text/plain": [
       "(-5,\n",
       " [('RDPVKTHEGWGVMLPCNPPAHYPGLSYRWLLNEFPNFIPTDGRHFVSQTT',\n",
       "   'ISDTEADIGSNLRWGC-AAAGKPRPMVRWLRNG----EPLASQNRVEVLA'),\n",
       "  ('RDPVKTHEGWGVMLPCNPPAHYPGLSYRWLLNEFPNFIPTDGRHFVSQTT',\n",
       "   'ISDTEADIGSNLRWGC-AAAGKPRPMVRWLRNGEP--LASQNR--VEVLA'),\n",
       "  ('RDPVKTHEGWGVMLPCNPPAHYPGLSYRWLLNEFPNFIPTDGRHFVSQTT',\n",
       "   'ISDTEADIGSNLRWGC-AAAGKPRPMVRWLRNGEP----LASQNRVEVLA'),\n",
       "  ('RDPVKTHEGWGVMLPCNPPAHYPGLSYRWLLNEFPNFIPTDGRHFVSQTT',\n",
       "   'ISDTEADIGSNLRWGC-AAAGKPRPMVRWLRNGE----PLASQNRVEVLA')])"
      ]
     },
     "execution_count": 28,
     "metadata": {},
     "output_type": "execute_result"
    }
   ],
   "source": [
    "gotoh(\"data/s2.fasta\", \"data/s3.fasta\", -11, \"data/blosum62.txt\")"
   ]
  },
  {
   "cell_type": "code",
   "execution_count": 29,
   "metadata": {},
   "outputs": [
    {
     "data": {
      "text/plain": [
       "(17,\n",
       " [('RDPVKTHEGWGVMLPCNPPAHYPGLSYRWLLNEFPNFIPTDGRHFVSQTT',\n",
       "   'ISDTEADIGSNLRWGCAAAGKPRPMV-RWLRNG----EPLASQNRVEVLA'),\n",
       "  ('RDPVKTHEGWGVMLPCNPPAHYPGLSYRWLLNEFPNFIPTDGRHFVSQTT',\n",
       "   'ISDTEADIGSNLRWGCAAAGKPRPMV-RWLRNGEP--LASQNR--VEVLA')])"
      ]
     },
     "execution_count": 29,
     "metadata": {},
     "output_type": "execute_result"
    }
   ],
   "source": [
    "gotoh(\"data/s2.fasta\", \"data/s3.fasta\", -11, \"data/pam250.txt\")"
   ]
  },
  {
   "cell_type": "code",
   "execution_count": 30,
   "metadata": {},
   "outputs": [
    {
     "data": {
      "text/plain": [
       "(-4,\n",
       " [('RDPVKTHEGWGVMLPCNPPAHYPGLSYRWLLNEFPNFIPTDGRHFVSQTT',\n",
       "   'RRLIPAARGGEISILCQPRA-APKATILW--SKGTEILGNSTRVTVT-SD'),\n",
       "  ('RDPVKTHEGWGVMLPCNPPAHYPGLSYRWLLNEFPNFIPTDGRHFVSQTT',\n",
       "   'RRLIPAARGGEISILCQPRAA-PKATILW--SKGTEILGNSTRVTVT-SD')])"
      ]
     },
     "execution_count": 30,
     "metadata": {},
     "output_type": "execute_result"
    }
   ],
   "source": [
    "gotoh(\"data/s2.fasta\", \"data/s4.fasta\", -11, \"data/blosum62.txt\")"
   ]
  },
  {
   "cell_type": "code",
   "execution_count": 31,
   "metadata": {},
   "outputs": [
    {
     "data": {
      "text/plain": [
       "(9,\n",
       " [('RDPVKTHEGWGVMLPCNPPAHYPGLSYRWLLNEFPNFIPTDGRHFVSQTT',\n",
       "   'RRLIPAARGGEISILCQPRAA-PKATILW--SKGTEILGNSTRVTVT-SD')])"
      ]
     },
     "execution_count": 31,
     "metadata": {},
     "output_type": "execute_result"
    }
   ],
   "source": [
    "gotoh(\"data/s2.fasta\", \"data/s4.fasta\", -11, \"data/pam250.txt\")"
   ]
  },
  {
   "cell_type": "code",
   "execution_count": 32,
   "metadata": {},
   "outputs": [
    {
     "data": {
      "text/plain": [
       "(18,\n",
       " [('ISDTEADIGSNLRWGCAAAGKPRPMVRWLRNGEPLASQNRVEVLA-',\n",
       "   'RRLIPAARGGEISILCQPRAAPKATILWSKGTEILGNSTRVTVTSD')])"
      ]
     },
     "execution_count": 32,
     "metadata": {},
     "output_type": "execute_result"
    }
   ],
   "source": [
    "gotoh(\"data/s3.fasta\", \"data/s4.fasta\", -11, \"data/blosum62.txt\")"
   ]
  },
  {
   "cell_type": "code",
   "execution_count": 33,
   "metadata": {},
   "outputs": [
    {
     "data": {
      "text/plain": [
       "(41,\n",
       " [('ISDTEADIGSNLRWGCAAAGKPRPMVRWLRNGEPLASQNRVEVLA-',\n",
       "   'RRLIPAARGGEISILCQPRAAPKATILWSKGTEILGNSTRVTVTSD')])"
      ]
     },
     "execution_count": 33,
     "metadata": {},
     "output_type": "execute_result"
    }
   ],
   "source": [
    "gotoh(\"data/s3.fasta\", \"data/s4.fasta\", -11, \"data/pam250.txt\")"
   ]
  },
  {
   "cell_type": "code",
   "execution_count": null,
   "metadata": {},
   "outputs": [],
   "source": []
  }
 ],
 "metadata": {
  "kernelspec": {
   "display_name": "Python 3",
   "language": "python",
   "name": "python3"
  },
  "language_info": {
   "codemirror_mode": {
    "name": "ipython",
    "version": 3
   },
   "file_extension": ".py",
   "mimetype": "text/x-python",
   "name": "python",
   "nbconvert_exporter": "python",
   "pygments_lexer": "ipython3",
   "version": "3.8.5"
  }
 },
 "nbformat": 4,
 "nbformat_minor": 4
}
