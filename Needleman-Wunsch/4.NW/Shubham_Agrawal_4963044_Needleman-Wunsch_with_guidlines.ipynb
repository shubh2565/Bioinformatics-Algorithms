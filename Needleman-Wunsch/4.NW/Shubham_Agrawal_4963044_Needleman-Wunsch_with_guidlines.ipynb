{
 "cells": [
  {
   "cell_type": "markdown",
   "metadata": {},
   "source": [
    "# Needleman-Wunsch implementation\n",
    "\n",
    "In this asssingment you will be asked to implement the Needleman-Wunsch algorithm.\n",
    "\n",
    "You can implement it with a corresponding function or a class. The choice is up to you.\n",
    "\n",
    "### The inputs are:\n",
    "A protein sequnce A in a fasta file.\n",
    "\n",
    "A protein sequence B in a fasta file.\n",
    "\n",
    "Substitution matrix in a text file.\n",
    "\n",
    "Gap introduction cost as an integer.\n",
    "\n",
    "### The Outputs are:\n",
    "Alingment score\n",
    "Alingment representation of sequence1\n",
    "Alingment representation of sequence2\n",
    "\n",
    "## Implementation and testing\n",
    "1. First you need to implement your algorithm and test your implementation.\n",
    "Although there could be more than one alingment with an the optimal score, in this execrice we only requre you to provide one.\n",
    "\n",
    "2. Design some tests which will show that your code works correctly.\n",
    "For that purpose you can use some short DNA sequences. Create some examples which could be easily checked by eye.\n",
    "\n",
    "3. Run some tests with s1.fasta and s2.fasta\n",
    "Make sure that you could obtain the score of 31 with the PAM250 substitution matrix and the score of 4 with BLOSUM62 substitution matrix. Use gap cost of -8 for PAM250 and -6 for BLOSUM62. Be careful with the gap score and make sure that you score gaps negatively in your matrix.\n",
    "\n",
    "4. Provide alingments and scores for each pair of sequences in s1.fasta, s2.fasta, s3,fasta, s4.fasta\n",
    " for both PAM250 and BLOSUM62 and use the gap cost from the previous step"
   ]
  },
  {
   "cell_type": "code",
   "execution_count": 1,
   "metadata": {},
   "outputs": [],
   "source": [
    "def needleman_wunsch(fasta_file_1, fasta_file_2, file_substitution_matrix, cost_gap_open):\n",
    "    \"Put your code here\"\n",
    "    \n",
    "    seq1 = read_fasta_file(fasta_file_1)\n",
    "    seq2 = read_fasta_file(fasta_file_2)\n",
    "    scores = read_substitution_matrix(file_substitution_matrix)\n",
    "    \n",
    "    alignment_matrix = calculate_matrix(seq1, seq2, cost_gap_open, scores)\n",
    "    trace = traceback(alignment_matrix, seq1, seq2, cost_gap_open, scores)\n",
    "    \n",
    "    aligned_seq_1, aligned_seq_2 = alingment_build(trace, seq1, seq2)\n",
    "    alignment_score = alignment_matrix[-1][-1]\n",
    "    \n",
    "    return alignment_score, aligned_seq_1, aligned_seq_2\n",
    "\n",
    "\n",
    "class NeedlemanWunsch:\n",
    "    def run(fasta_file_1, fasta_file_2, file_substitution_matrix, cost_gap_open):\n",
    "        \"Put your code here\"\n",
    "        seq1 = read_fasta_file(fasta_file_1)\n",
    "        seq2 = read_fasta_file(fasta_file_2)\n",
    "        scores = read_substitution_matrix(file_substitution_matrix)\n",
    "\n",
    "        alignment_matrix = calculate_matrix(seq1, seq2, cost_gap_open, scores)\n",
    "        trace = traceback(alignment_matrix, seq1, seq2, cost_gap_open, scores)\n",
    "\n",
    "        aligned_seq_1, aligned_seq_2 = alingment_build(trace, seq1, seq2)\n",
    "        alignment_score = alignment_matrix[-1][-1]\n",
    "    \n",
    "        return alignment_score, aligned_seq_1, aligned_seq_2"
   ]
  },
  {
   "cell_type": "markdown",
   "metadata": {},
   "source": [
    "## Guildines\n",
    "\n",
    "You do not have to use the suggested guidlines but it might help you not go get stuck"
   ]
  },
  {
   "cell_type": "code",
   "execution_count": 2,
   "metadata": {},
   "outputs": [],
   "source": [
    "def read_fasta_file(fasta_file):\n",
    "    \"Implement reading the fasta file\"\n",
    "    with open(fasta_file) as f:\n",
    "        lines = [line.rstrip() for line in f]\n",
    "        #remove the first line which is not part of the sequence\n",
    "        sequence = lines[1]\n",
    "    return sequence"
   ]
  },
  {
   "cell_type": "code",
   "execution_count": 3,
   "metadata": {},
   "outputs": [],
   "source": [
    "def read_substitution_matrix(file_substitution_matrix):\n",
    "    \"\"\"\n",
    "    Implement reading the scores file.\n",
    "    It can be stored as a dictionary of example:\n",
    "    scores[(\"A\", \"R\")] = -1\n",
    "    \"\"\"\n",
    "    scores = {}\n",
    "    with open(file_substitution_matrix) as f:\n",
    "        #to get only the lines belonging to scoring matrix\n",
    "        lines = [line.split() for line in f if not line.startswith('#') and not line.startswith('\\n')]\n",
    "    \n",
    "    #coverting list into a dictionary\n",
    "    for i in range(21):\n",
    "        for j in range(1, 22):\n",
    "            scores[(lines[j][0], lines[0][i])] = int(lines[j][i+1])  \n",
    "    \n",
    "    return scores"
   ]
  },
  {
   "cell_type": "code",
   "execution_count": 4,
   "metadata": {},
   "outputs": [],
   "source": [
    "import numpy as np\n",
    "\n",
    "def init_matrix(sequence1, sequence2, gap_cost):\n",
    "    \"\"\"\n",
    "    Implement initialization of the matrix.\n",
    "    Make sure you picked the right dimention and correctly initilized the first row and the first column.\n",
    "    \"\"\"\n",
    "    matrix = np.zeros((len(sequence1)+1, len(sequence2)+1))\n",
    "    matrix[:,0] = [i*gap_cost for i in range(np.shape(matrix)[0])]\n",
    "    matrix[0,:] = [i*gap_cost for i in range(np.shape(matrix)[1])]\n",
    "    \n",
    "    return matrix"
   ]
  },
  {
   "cell_type": "code",
   "execution_count": 5,
   "metadata": {},
   "outputs": [],
   "source": [
    "def new_value_computation(char_seq1, char_seq2, gap_cost, substitution_matrix, diag_val, top_val, left_val):\n",
    "    \"\"\"\n",
    "    Implement the computation of the value in the new cell.\n",
    "    In this function we assume that we want to compute the value in the new cell in the matrix.\n",
    "    Assume that the values \"to the left\", \"to the top\" and \"top left\" are already computed and provided\n",
    "    as the input to the function. Also we know what characters in both sequences correspond to the given cell.\n",
    "    \"\"\"\n",
    "    diag = diag_val + substitution_matrix[(char_seq1, char_seq2)]\n",
    "    top = top_val + gap_cost\n",
    "    left = left_val + gap_cost\n",
    "    cell_value = max(diag, top, left)\n",
    "    \n",
    "    return cell_value"
   ]
  },
  {
   "cell_type": "code",
   "execution_count": 6,
   "metadata": {},
   "outputs": [],
   "source": [
    "def calculate_matrix(sequence1, sequence2, gap_opening_cost, substitution_cost):\n",
    "    \"\"\"\n",
    "    Implement the step of complete computation of the matrix\n",
    "    First initialize the matrix then fill it in from top to bottom.\n",
    "    \"\"\"\n",
    "    matrix = init_matrix(sequence1, sequence2, gap_opening_cost)\n",
    "    for i in range(len(sequence1)):\n",
    "        for j in range(len(sequence2)):\n",
    "            matrix[i+1][j+1] = new_value_computation(sequence1[i], sequence2[j],\n",
    "                                                     gap_opening_cost, substitution_cost,\n",
    "                                                     matrix[i][j], matrix[i][j+1], matrix[i+1][j])\n",
    "            \n",
    "    return matrix"
   ]
  },
  {
   "cell_type": "code",
   "execution_count": 7,
   "metadata": {},
   "outputs": [],
   "source": [
    "def traceback(matrix, sequence1, sequence2, gap_opening_cost,  substitution_cost):\n",
    "    \"\"\"\n",
    "    Implement the traceback part of the algorithm\n",
    "    With the given matrix traceback which cells were taken to complete the path from \n",
    "    the top left corner to the bottom right corner.\n",
    "    \"\"\"\n",
    "    traceback = [(len(sequence1),len(sequence2))]\n",
    "    i = len(sequence1) \n",
    "    j = len(sequence2) \n",
    "\n",
    "    while(i > 0 and j > 0):\n",
    "        if matrix[i][j] == matrix[i-1][j-1] + substitution_cost[(sequence1[i-1], sequence2[j-1])]:\n",
    "            traceback.append((i-1,j-1))\n",
    "            #print('diag')\n",
    "            i = i-1\n",
    "            j = j-1\n",
    "        elif matrix[i][j] == matrix[i-1][j] + gap_opening_cost:\n",
    "            traceback.append((i-1,j))\n",
    "            #print('top')\n",
    "            i = i-1\n",
    "        else:\n",
    "            traceback.append((i,j-1))\n",
    "            #print('left')\n",
    "            j = j-1\n",
    "            \n",
    "    return traceback"
   ]
  },
  {
   "cell_type": "code",
   "execution_count": 8,
   "metadata": {},
   "outputs": [],
   "source": [
    "def alingment_build(traceback, seq1, seq2):\n",
    "    \"\"\"\n",
    "    Implement the alingment creation.\n",
    "    Given the traceback figure out which editing operations were used to create the alingment.\n",
    "    \"\"\"\n",
    "    seq1_align = ''\n",
    "    seq2_align = ''\n",
    "    j = k = 0\n",
    "    \n",
    "    for i in range(len(traceback)-1, 0, -1):\n",
    "        if traceback[i][0]+1 == traceback[i-1][0] and traceback[i][1] +1 == traceback[i-1][1]:\n",
    "            #print('diag')\n",
    "            seq1_align += seq1[j]\n",
    "            seq2_align += seq2[k]\n",
    "            j += 1\n",
    "            k += 1\n",
    "        elif traceback[i][0]+1 == traceback[i-1][0] and traceback[i][1] == traceback[i-1][1]:\n",
    "            #print('top')\n",
    "            seq1_align += seq1[j]\n",
    "            seq2_align += '_'\n",
    "            j += 1\n",
    "        else:\n",
    "            #print('left')\n",
    "            seq1_align += '_'\n",
    "            seq2_align += seq2[k]\n",
    "            k += 1\n",
    "    \n",
    "    return seq1_align, seq2_align"
   ]
  },
  {
   "cell_type": "code",
   "execution_count": 9,
   "metadata": {},
   "outputs": [
    {
     "data": {
      "text/plain": [
       "(4.0,\n",
       " 'ILDMDVVEGSAARFDCKVEG_YPDPEVMWFKDDNP__V_KESRHFQIDYDEEGN',\n",
       " 'RDPVKTHEGWGVMLPCNPPAHYPGLSYRWLLNEFPNFIPTDGRHF_V__SQT_T')"
      ]
     },
     "execution_count": 9,
     "metadata": {},
     "output_type": "execute_result"
    }
   ],
   "source": [
    "needleman_wunsch(\"data/s1.fasta\", \"data/s2.fasta\", \"data/blosum62.txt\", -6)"
   ]
  },
  {
   "cell_type": "code",
   "execution_count": 10,
   "metadata": {},
   "outputs": [
    {
     "data": {
      "text/plain": [
       "(31.0,\n",
       " 'ILDMDVVEGSAARFDCKVEG_YPDPEVMWFKDDNPVKESRHFQIDYDEEGN',\n",
       " 'RDPVKTHEGWGVMLPCNPPAHYPGLSYRWLLNEFPNFIPTD_GRHFVSQTT')"
      ]
     },
     "execution_count": 10,
     "metadata": {},
     "output_type": "execute_result"
    }
   ],
   "source": [
    "needleman_wunsch(\"data/s1.fasta\", \"data/s2.fasta\", \"data/pam250.txt\", -8)"
   ]
  },
  {
   "cell_type": "code",
   "execution_count": 11,
   "metadata": {},
   "outputs": [
    {
     "data": {
      "text/plain": [
       "(24.0,\n",
       " 'ISDTEADIGSNLRWGCAAAGKPRPMVRWLRNGEPLASQNRVEVLA_',\n",
       " 'RRLIPAARGGEISILCQPRAAPKATILWSKGTEILGNSTRVTVTSD')"
      ]
     },
     "execution_count": 11,
     "metadata": {},
     "output_type": "execute_result"
    }
   ],
   "source": [
    "needleman_wunsch(\"data/s3.fasta\", \"data/s4.fasta\", \"data/blosum62.txt\", -6)"
   ]
  },
  {
   "cell_type": "code",
   "execution_count": 12,
   "metadata": {},
   "outputs": [
    {
     "data": {
      "text/plain": [
       "(45.0,\n",
       " 'ISDTEADIGSNLRWGCAAAGKPRPMVRWLRNGEPLASQNRVEVLA_',\n",
       " 'RRLIPAARGGEISILCQPRAAPKATILWSKGTEILGNSTRVTVTSD')"
      ]
     },
     "execution_count": 12,
     "metadata": {},
     "output_type": "execute_result"
    }
   ],
   "source": [
    "needleman_wunsch(\"data/s3.fasta\", \"data/s4.fasta\", \"data/pam250.txt\", -8)"
   ]
  },
  {
   "cell_type": "code",
   "execution_count": 13,
   "metadata": {},
   "outputs": [
    {
     "data": {
      "text/plain": [
       "(37.0,\n",
       " 'ILDMDVVEGSAARFDCKVEGYPDPEVMWFKDDNPVKESRHFQIDYDEEGN',\n",
       " 'ISDTEADIGSNLRWGCAAAGKPRPMVRWLRNGEPL_ASQN_RVEV__LA_')"
      ]
     },
     "execution_count": 13,
     "metadata": {},
     "output_type": "execute_result"
    }
   ],
   "source": [
    "needleman_wunsch(\"data/s1.fasta\", \"data/s3.fasta\", \"data/blosum62.txt\", -6)"
   ]
  },
  {
   "cell_type": "code",
   "execution_count": 14,
   "metadata": {},
   "outputs": [
    {
     "data": {
      "text/plain": [
       "(44.0,\n",
       " 'ILDMDVVEGSAARFDCKVEGYPDPEVMWFKDDNPVKESRHFQIDYDEEGN',\n",
       " 'ISDTEADIGSNLRWGCAAAGKPRPMVRWLRNGEPL_ASQN_RV__EVLA_')"
      ]
     },
     "execution_count": 14,
     "metadata": {},
     "output_type": "execute_result"
    }
   ],
   "source": [
    "needleman_wunsch(\"data/s1.fasta\", \"data/s3.fasta\", \"data/pam250.txt\", -8)"
   ]
  },
  {
   "cell_type": "code",
   "execution_count": 15,
   "metadata": {},
   "outputs": [
    {
     "data": {
      "text/plain": [
       "(-4.0,\n",
       " 'ILDMDVVEGSAARFDCKVEGYPDPEVMWFKDDNPVKESRHFQIDYDEEGN',\n",
       " 'RRLIPAARGGEISILCQPRAAPKATILWSKGTEILGNSTRVTVTSD____')"
      ]
     },
     "execution_count": 15,
     "metadata": {},
     "output_type": "execute_result"
    }
   ],
   "source": [
    "needleman_wunsch(\"data/s1.fasta\", \"data/s4.fasta\", \"data/blosum62.txt\", -6)"
   ]
  },
  {
   "cell_type": "code",
   "execution_count": 16,
   "metadata": {},
   "outputs": [
    {
     "data": {
      "text/plain": [
       "(13.0,\n",
       " 'ILDMDVVEGSAARFDCKVEGYPDPEVMWFKDDNPVKESRHFQIDYDEEGN',\n",
       " 'RRLIPAARGGEISILCQPRAAPKATILWSKGTE_ILGNST_RV__TVTSD')"
      ]
     },
     "execution_count": 16,
     "metadata": {},
     "output_type": "execute_result"
    }
   ],
   "source": [
    "needleman_wunsch(\"data/s1.fasta\", \"data/s4.fasta\", \"data/pam250.txt\", -8)"
   ]
  },
  {
   "cell_type": "code",
   "execution_count": 17,
   "metadata": {},
   "outputs": [
    {
     "data": {
      "text/plain": [
       "(3.0,\n",
       " 'RDPVKTHEGWGVMLPCNPPAHYPGLSYRWLLNEFPNFIPTDGRHFVSQTT',\n",
       " 'ISDTEADIGSNLRWGC_AAAGKPRPMVRWLRNGEP__LASQNR__VEVLA')"
      ]
     },
     "execution_count": 17,
     "metadata": {},
     "output_type": "execute_result"
    }
   ],
   "source": [
    "needleman_wunsch(\"data/s2.fasta\", \"data/s3.fasta\", \"data/blosum62.txt\", -6)"
   ]
  },
  {
   "cell_type": "code",
   "execution_count": 18,
   "metadata": {},
   "outputs": [
    {
     "data": {
      "text/plain": [
       "(15.0,\n",
       " 'RDPVKTHEGWGVMLPCNPPAHYPGLSYRWLLNEFPNFIPTDGRHFVSQTT',\n",
       " 'ISDTEADIGSNLRWGCAAAGKPRPMV_RWLRNGEP__LASQNR__VEVLA')"
      ]
     },
     "execution_count": 18,
     "metadata": {},
     "output_type": "execute_result"
    }
   ],
   "source": [
    "needleman_wunsch(\"data/s2.fasta\", \"data/s3.fasta\", \"data/pam250.txt\", -8)"
   ]
  },
  {
   "cell_type": "code",
   "execution_count": 19,
   "metadata": {},
   "outputs": [
    {
     "data": {
      "text/plain": [
       "(9.0,\n",
       " 'RDPVKTHEGWGVMLPCNPPAHYPGLSYRWLLNEFPNFIPTDGRHFVSQTT',\n",
       " 'RRLIPAARGGEISILCQPRA_APKATILW__SKGTEILGNSTRVTVT_SD')"
      ]
     },
     "execution_count": 19,
     "metadata": {},
     "output_type": "execute_result"
    }
   ],
   "source": [
    "needleman_wunsch(\"data/s2.fasta\", \"data/s4.fasta\", \"data/blosum62.txt\", -6)"
   ]
  },
  {
   "cell_type": "code",
   "execution_count": 20,
   "metadata": {},
   "outputs": [
    {
     "data": {
      "text/plain": [
       "(16.0,\n",
       " 'RDPVKTHEGWGVMLPCNPPAHYPGLSYRWLLNEFPNFIPTDGRHFVSQTT',\n",
       " 'RRLIPAARGGEISILCQPRAA_PKATILW_SKG_TEILGNSTRVTVT_SD')"
      ]
     },
     "execution_count": 20,
     "metadata": {},
     "output_type": "execute_result"
    }
   ],
   "source": [
    "needleman_wunsch(\"data/s2.fasta\", \"data/s4.fasta\", \"data/pam250.txt\", -8)"
   ]
  }
 ],
 "metadata": {
  "kernelspec": {
   "display_name": "Python 3",
   "language": "python",
   "name": "python3"
  },
  "language_info": {
   "codemirror_mode": {
    "name": "ipython",
    "version": 3
   },
   "file_extension": ".py",
   "mimetype": "text/x-python",
   "name": "python",
   "nbconvert_exporter": "python",
   "pygments_lexer": "ipython3",
   "version": "3.8.5"
  }
 },
 "nbformat": 4,
 "nbformat_minor": 4
}
