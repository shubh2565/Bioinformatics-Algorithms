{
 "cells": [
  {
   "cell_type": "markdown",
   "metadata": {},
   "source": [
    "# Needleman-Wunsch implementation\n",
    "\n",
    "In this asssingment you will be asked to implement the Needleman-Wunsch algorithm.\n",
    "\n",
    "You can implement it with a corresponding function or a class. The choice is up to you.\n",
    "\n",
    "### The inputs are:\n",
    "A protein sequnce A in a fasta file.\n",
    "\n",
    "A protein sequence B in a fasta file.\n",
    "\n",
    "Substitution matrix in a text file.\n",
    "\n",
    "Gap introduction cost as an integer.\n",
    "\n",
    "### The Outputs are:\n",
    "Alingment score\n",
    "Alingment representation of sequence1\n",
    "Alingment representation of sequence2\n",
    "\n",
    "## Implementation and testing\n",
    "1. First you need to implement your algorithm and test your implementation.\n",
    "Although there could be more than one alingment with an the optimal score, in this execrice we only requre you to provide one.\n",
    "\n",
    "2. Design some tests which will show that your code works correctly.\n",
    "For that purpose you can use some short DNA sequences. Create some examples which could be easily checked by eye.\n",
    "\n",
    "3. Run some tests with s1.fasta and s2.fasta\n",
    "Make sure that you could obtain the score of 31 with the PAM250 substitution matrix and the score of 4 with BLOSUM62 substitution matrix. Use gap cost of -8 for PAM250 and -6 for BLOSUM62. Be careful with the gap score and make sure that you score gaps negatively in your matrix.\n",
    "\n",
    "4. Provide alingments and scores for each pair of sequences in s1.fasta, s2.fasta, s3,fasta, s4.fasta\n",
    " for both PAM250 and BLOSUM62 and use the gap cost from the previous step"
   ]
  },
  {
   "cell_type": "code",
   "execution_count": null,
   "metadata": {},
   "outputs": [],
   "source": [
    "def needleman_wunsch(fasta_file_1, fasta_file_2, file_substitution_matrix, cost_gap_open):\n",
    "    \"Put your code here\"\n",
    "    return aningment_score, aligned_seq_1, aligned_seq_1\n",
    "\n",
    "\n",
    "class NeedlemanWunsch:\n",
    "    def run(fasta_file_1, fasta_file_2, file_substitution_matrix, cost_gap_open):\n",
    "        \"Put your code here\"\n",
    "        return aningment_score, aligned_seq_1, aligned_seq_2"
   ]
  },
  {
   "cell_type": "markdown",
   "metadata": {},
   "source": [
    "## Guildines\n",
    "\n",
    "You do not have to use the suggested guidlines but it might help you not go get stuck"
   ]
  },
  {
   "cell_type": "code",
   "execution_count": null,
   "metadata": {},
   "outputs": [],
   "source": [
    "def read_fasta_file(fasta_file):\n",
    "    \"Implement reading the fasta file\"\n",
    "    return sequence"
   ]
  },
  {
   "cell_type": "code",
   "execution_count": null,
   "metadata": {},
   "outputs": [],
   "source": [
    "def read_substitution_matrix(file_substitution_matrix):\n",
    "    \"\"\"\n",
    "    Implement reading the scores file.\n",
    "    It can be stored as a dictionary of example:\n",
    "    scores[(\"A\", \"R\")] = -1\n",
    "    \"\"\"\n",
    "    \n",
    "    return scores"
   ]
  },
  {
   "cell_type": "code",
   "execution_count": null,
   "metadata": {},
   "outputs": [],
   "source": [
    "def init_matrix(sequence1, sequence2, gap_cost):\n",
    "    \"\"\"\n",
    "    Implement initialization of the matrix.\n",
    "    Make sure you picked the right dimention and correctly initilized the first row and the first column.\n",
    "    \"\"\"\n",
    "    return matrix"
   ]
  },
  {
   "cell_type": "code",
   "execution_count": null,
   "metadata": {},
   "outputs": [],
   "source": [
    "def new_value_computation(char_seq1, char_seq2, gap_cost, substitution_matrix, diag_val, top_val, left_val):\n",
    "    \"\"\"\n",
    "    Implement the computation of the value in the new cell.\n",
    "    In this function we assume that we want to compute the value in the new cell in the matrix.\n",
    "    Assume that the values \"to the left\", \"to the top\" and \"top left\" are already computed and provided\n",
    "    as the input to the function. Also we know what characters in both sequences correspond to the given cell.\n",
    "    \"\"\"\n",
    "    return cell_value"
   ]
  },
  {
   "cell_type": "code",
   "execution_count": null,
   "metadata": {},
   "outputs": [],
   "source": [
    "def calculate_matrix(sequence1, sequence2, gap_opening_cost, substitution_cost):\n",
    "    \"\"\"\n",
    "    Implement the step of complete computation of the matrix\n",
    "    First initialize the matrix then fill it in from top to bottom.\n",
    "    \"\"\"\n",
    "    return matrix"
   ]
  },
  {
   "cell_type": "code",
   "execution_count": null,
   "metadata": {},
   "outputs": [],
   "source": [
    "def traceback(matrix, sequence1, sequence2, gap_opening_cost,  substitution_cost):\n",
    "    \"\"\"\n",
    "    Implement the traceback part of the algorithm\n",
    "    With the given matrix traceback which cells were taken to complete the path from \n",
    "    the top left corner to the bottom right corner.\n",
    "    \"\"\"\n",
    "    return traceback"
   ]
  },
  {
   "cell_type": "code",
   "execution_count": null,
   "metadata": {},
   "outputs": [],
   "source": [
    "def alingment_build(traceback, seq1, seq2):\n",
    "    \"\"\"\n",
    "    Implement the alingment creation.\n",
    "    Given the traceback figure out which editing operations were used to create the alingment.\n",
    "    \"\"\"\n",
    "    return seq1_align, seq2_align"
   ]
  }
 ],
 "metadata": {
  "kernelspec": {
   "display_name": "Python 3",
   "language": "python",
   "name": "python3"
  },
  "language_info": {
   "codemirror_mode": {
    "name": "ipython",
    "version": 3
   },
   "file_extension": ".py",
   "mimetype": "text/x-python",
   "name": "python",
   "nbconvert_exporter": "python",
   "pygments_lexer": "ipython3",
   "version": "3.6.9"
  }
 },
 "nbformat": 4,
 "nbformat_minor": 2
}
